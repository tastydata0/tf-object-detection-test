{
  "cells": [
    {
      "cell_type": "code",
      "execution_count": null,
      "metadata": {
        "id": "iA5IlfNKVle2"
      },
      "outputs": [],
      "source": [
        "import os\n",
        "import dataclasses\n",
        "\n",
        "\n",
        "\n",
        "import tensorflow as tf\n",
        "config = tf.compat.v1.ConfigProto()\n",
        "config.gpu_options.allow_growth = True\n",
        "session = tf.compat.v1.Session(config=config)\n",
        "\n",
        "from google.protobuf import text_format\n",
        "print(tf.__version__)\n",
        "print(tf.config.list_physical_devices('GPU'))\n",
        "tf.test.is_gpu_available(), tf.test.gpu_device_name()\n"
      ]
    },
    {
      "cell_type": "code",
      "execution_count": null,
      "metadata": {
        "id": "X6BRTRJuZ5X2"
      },
      "outputs": [],
      "source": [
        "from google.colab import drive\n",
        "drive.mount('/content/drive')"
      ]
    },
    {
      "cell_type": "code",
      "execution_count": null,
      "metadata": {
        "id": "lvYOR1MZZNAJ"
      },
      "outputs": [],
      "source": [
        "!cd \"/content/drive/MyDrive/Colab Notebooks/my_object_detection\" && pwd\n",
        "!pwd"
      ]
    },
    {
      "cell_type": "code",
      "execution_count": null,
      "metadata": {
        "id": "1zNfQBseVle6"
      },
      "outputs": [],
      "source": [
        "!pwd"
      ]
    },
    {
      "cell_type": "code",
      "execution_count": null,
      "metadata": {
        "id": "kh6-GSi5Vle6"
      },
      "outputs": [],
      "source": [
        "\n",
        "MODEL_URL = 'http://download.tensorflow.org/models/object_detection/tf2/20200711/ssd_mobilenet_v2_fpnlite_640x640_coco17_tpu-8.tar.gz'\n",
        "MODEL_NAME = MODEL_URL.split('/')[-1].split('.')[0]\n",
        "MODEL_NAME\n",
        "CUSTOM_MODEL_NAME = 'my_ssd_net2'"
      ]
    },
    {
      "cell_type": "code",
      "execution_count": null,
      "metadata": {
        "id": "tmDkTt10Vle7"
      },
      "outputs": [],
      "source": [
        "@dataclasses.dataclass\n",
        "class Paths:\n",
        "    tensorflow_dir: str = os.path.join('/content/drive/MyDrive/Colab Notebooks/my_object_detection', 'Tensorflow')\n",
        "    models_dir: str = os.path.join(tensorflow_dir, 'models')\n",
        "    custom_model_dir: str = os.path.join(models_dir, CUSTOM_MODEL_NAME)\n",
        "    api_model_dir: str = os.path.join(tensorflow_dir, 'api_model')\n",
        "    annotations_dir: str = os.path.join(tensorflow_dir, 'annotations')\n",
        "    exported_models_dir: str = os.path.join(tensorflow_dir, 'exported_models')\n",
        "    images_dir: str = os.path.join(tensorflow_dir, 'images')\n",
        "    images_test_dir: str = os.path.join(images_dir, 'test')\n",
        "    images_train_dir: str = os.path.join(images_dir, 'train')\n",
        "    pre_trained_models_dir: str = os.path.join(tensorflow_dir, 'pre_trained_models')\n",
        "    scriprs_dir: str = os.path.join(tensorflow_dir, 'scripts')\n",
        "    records_dir: str = os.path.join(tensorflow_dir, 'records')\n",
        "    checkpoints_dir: str = os.path.join(tensorflow_dir, 'checkpoints')\n",
        "\n",
        "    \n",
        "paths = Paths()\n",
        "\n",
        "@dataclasses.dataclass\n",
        "class Files:\n",
        "    record_file: str = os.path.join(paths.records_dir, 'people.record')\n",
        "    val_record_file: str = os.path.join(paths.records_dir, 'val.record')\n",
        "    tf_record_generator_file: str = os.path.join(paths.scriprs_dir, 'my_tf_record.py')\n",
        "    pipeline_config_file: str = os.path.join(paths.models_dir, CUSTOM_MODEL_NAME, 'pipeline.config')\n",
        "    label_map_file: str = os.path.join(paths.annotations_dir, 'label_map.pbtxt')\n",
        "    training_script_file: str = os.path.join(paths.api_model_dir,'research', 'object_detection', 'model_main_tf2.py')\n",
        "\n",
        "files = Files()\n"
      ]
    },
    {
      "cell_type": "code",
      "execution_count": null,
      "metadata": {
        "id": "SKKYIudDayE1"
      },
      "outputs": [],
      "source": [
        "print(paths)\n",
        "print(files)"
      ]
    },
    {
      "cell_type": "code",
      "execution_count": null,
      "metadata": {
        "id": "yNvvJ5GYVle8"
      },
      "outputs": [],
      "source": [
        "for i in dataclasses.asdict(paths).values():\n",
        "    if not os.path.exists(i):\n",
        "        os.mkdir(i)"
      ]
    },
    {
      "cell_type": "code",
      "execution_count": null,
      "metadata": {
        "id": "XZTtGHDPVle8"
      },
      "outputs": [],
      "source": [
        "if not os.path.exists(os.path.join(paths.api_model_dir, 'research')):\n",
        "    !git clone https://github.com/tensorflow/models.git $paths.api_model_dir\n",
        "else:\n",
        "    print('Api model already exists')"
      ]
    },
    {
      "cell_type": "code",
      "execution_count": null,
      "metadata": {
        "id": "h9tYU7o6-6yj"
      },
      "outputs": [],
      "source": [
        "i = 0\n",
        "while True:\n",
        "    print(i)\n",
        "    i += 1"
      ]
    },
    {
      "cell_type": "code",
      "execution_count": null,
      "metadata": {
        "id": "YEOF1_MCVle9"
      },
      "outputs": [],
      "source": [
        "try:\n",
        "    import object_detection\n",
        "    print('Object detection is already installed')\n",
        "except ImportError:\n",
        "    # Install object detection api\n",
        "    !cd \"{paths.api_model_dir}/research\" && protoc object_detection/protos/*.proto --python_out=. && cp object_detection/packages/tf2/setup.py . && python -m pip install ."
      ]
    },
    {
      "cell_type": "code",
      "execution_count": null,
      "metadata": {
        "id": "VP1Tj7oeVle9"
      },
      "outputs": [],
      "source": [
        "!pip list | grep object-detection\n",
        "!pip list | grep tensor\n"
      ]
    },
    {
      "cell_type": "code",
      "execution_count": null,
      "metadata": {
        "id": "Bs6Fw59PVle-"
      },
      "outputs": [],
      "source": [
        "# Train record\n",
        "if not os.path.exists(files.record_file):\n",
        "    !python \"{files.tf_record_generator_file}\" -a '{paths.annotations_dir}/train_bboxes.txt' -i '{paths.images_dir}' -o '{files.record_file}'\n",
        "else:\n",
        "    print('Train record already exists')\n",
        "\n",
        "# Val record\n",
        "if not os.path.exists(files.val_record_file):\n",
        "    !python \"{files.tf_record_generator_file}\" -a '{paths.annotations_dir}/val_bboxes.txt' -i '{paths.images_dir}' -o '{files.val_record_file}'\n",
        "else: \n",
        "    print('Val record already exists')"
      ]
    },
    {
      "cell_type": "markdown",
      "metadata": {
        "id": "t01hZGh8Y9Mq"
      },
      "source": [
        "# Новый раздел"
      ]
    },
    {
      "cell_type": "code",
      "execution_count": null,
      "metadata": {
        "id": "c2zWj8JuZAtD"
      },
      "outputs": [],
      "source": [
        ""
      ]
    },
    {
      "cell_type": "code",
      "execution_count": null,
      "metadata": {
        "id": "ndyKE2_8Vle_"
      },
      "outputs": [],
      "source": [
        ""
      ]
    },
    {
      "cell_type": "code",
      "execution_count": null,
      "metadata": {
        "id": "AVvh-wOMVle_"
      },
      "outputs": [],
      "source": [
        "if not os.path.exists(os.path.join(paths.pre_trained_models_dir, MODEL_NAME)):\n",
        "    !wget {MODEL_URL} -O {paths.pre_trained_models_dir}/{MODEL_NAME}.tar.gz\n",
        "    !tar -xzvf {paths.pre_trained_models_dir}/{MODEL_NAME}.tar.gz -C {paths.pre_trained_models_dir}\n",
        "else: \n",
        "    print('Pre-trained model already exists')\n"
      ]
    },
    {
      "cell_type": "code",
      "execution_count": null,
      "metadata": {
        "id": "JPmcYWxqVle_"
      },
      "outputs": [],
      "source": [
        "!cp \"{paths.pre_trained_models_dir}/{MODEL_NAME}\"/pipeline.config \"{files.pipeline_config_file}\""
      ]
    },
    {
      "cell_type": "code",
      "execution_count": null,
      "metadata": {
        "id": "EUDTowJQVlfA"
      },
      "outputs": [],
      "source": [
        "from object_detection.utils import config_util\n",
        "from object_detection.protos import pipeline_pb2\n",
        "config = config_util.get_configs_from_pipeline_file(files.pipeline_config_file)\n",
        "\n",
        "pipeline_config = pipeline_pb2.TrainEvalPipelineConfig()\n",
        "with tf.io.gfile.GFile(files.pipeline_config_file, \"r\") as f:\n",
        "    proto_str = f.read()\n",
        "    text_format.Merge(proto_str, pipeline_config)\n",
        "\n",
        "pipeline_config.model.ssd.num_classes = 1\n",
        "pipeline_config.train_config.batch_size = 4\n",
        "pipeline_config.train_config.fine_tune_checkpoint = os.path.join(\n",
        "    paths.pre_trained_models_dir, MODEL_NAME, 'checkpoint', 'ckpt-0')\n",
        "pipeline_config.train_config.fine_tune_checkpoint_type = \"detection\"\n",
        "pipeline_config.train_input_reader.label_map_path = files.label_map_file\n",
        "pipeline_config.train_input_reader.tf_record_input_reader.input_path[:] = [\n",
        "    os.path.join(paths.records_dir, 'people.record')]\n",
        "pipeline_config.eval_input_reader[0].label_map_path = files.label_map_file\n",
        "pipeline_config.eval_input_reader[0].tf_record_input_reader.input_path[:] = [\n",
        "    os.path.join(paths.records_dir, 'val.record')]\n",
        "\n",
        "\n",
        "config_text = text_format.MessageToString(pipeline_config)\n",
        "with tf.io.gfile.GFile(files.pipeline_config_file, \"wb\") as f:\n",
        "    f.write(config_text)\n"
      ]
    },
    {
      "cell_type": "code",
      "execution_count": null,
      "metadata": {
        "id": "1D6dHLPHVlfA"
      },
      "outputs": [],
      "source": [
        "TRAINING_COMMAND = f'python \"{files.training_script_file}\" --num_train_steps=400 --model_dir \"{os.path.join(paths.models_dir, CUSTOM_MODEL_NAME)}\" --pipeline_config_path \"{files.pipeline_config_file}\"'\n",
        "print(TRAINING_COMMAND)"
      ]
    },
    {
      "cell_type": "code",
      "execution_count": null,
      "metadata": {
        "id": "kYWQ9v0fblSW"
      },
      "outputs": [],
      "source": [
        "!pip uninstall opencv-python-headless"
      ]
    },
    {
      "cell_type": "code",
      "execution_count": null,
      "metadata": {
        "id": "Xglst2tjb97x"
      },
      "outputs": [],
      "source": [
        "!pip install opencv-python-headless==4.1.2.30"
      ]
    },
    {
      "cell_type": "code",
      "execution_count": null,
      "metadata": {
        "id": "_etUig4yExq6"
      },
      "outputs": [],
      "source": [
        "!pip uninstall tensorflow"
      ]
    },
    {
      "cell_type": "code",
      "execution_count": null,
      "metadata": {
        "id": "FlIDYiBcE0sy"
      },
      "outputs": [],
      "source": [
        "!pip install tensorflow==2.8.0"
      ]
    },
    {
      "cell_type": "code",
      "execution_count": null,
      "metadata": {
        "id": "A6-mYAMSVlfA"
      },
      "outputs": [],
      "source": [
        "!{TRAINING_COMMAND}"
      ]
    },
    {
      "cell_type": "code",
      "execution_count": null,
      "metadata": {
        "id": "yf-YGNWjuMH5"
      },
      "outputs": [],
      "source": [
        "EVAL_COMMAND = f'python \"{files.training_script_file}\" --checkpoint_dir=\"{paths.custom_model_dir}\" --model_dir=\"{os.path.join(paths.models_dir, CUSTOM_MODEL_NAME)}\" --pipeline_config_path=\"{files.pipeline_config_file}\"'\n",
        "print(EVAL_COMMAND)"
      ]
    },
    {
      "cell_type": "code",
      "execution_count": null,
      "metadata": {
        "colab": {
          "background_save": true
        },
        "id": "3Xm0V04cuy8w"
      },
      "outputs": [],
      "source": [
        "!{EVAL_COMMAND}"
      ]
    },
    {
      "cell_type": "code",
      "execution_count": null,
      "metadata": {
        "id": "4vOlRqxCu2jL"
      },
      "outputs": [],
      "source": [
        ""
      ]
    }
  ],
  "metadata": {
    "accelerator": "GPU",
    "colab": {
      "name": "2.Training.ipynb",
      "provenance": []
    },
    "interpreter": {
      "hash": "e7370f93d1d0cde622a1f8e1c04877d8463912d04d973331ad4851f04de6915a"
    },
    "kernelspec": {
      "display_name": "tfod",
      "language": "python",
      "name": "tfod"
    },
    "language_info": {
      "codemirror_mode": {
        "name": "ipython",
        "version": 3
      },
      "file_extension": ".py",
      "mimetype": "text/x-python",
      "name": "python",
      "nbconvert_exporter": "python",
      "pygments_lexer": "ipython3",
      "version": "3.10.2"
    }
  },
  "nbformat": 4,
  "nbformat_minor": 0
}